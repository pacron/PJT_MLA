{
  "nbformat": 4,
  "nbformat_minor": 0,
  "metadata": {
    "colab": {
      "provenance": []
    },
    "kernelspec": {
      "name": "python3",
      "display_name": "Python 3"
    },
    "language_info": {
      "name": "python"
    }
  },
  "cells": [
    {
      "cell_type": "markdown",
      "source": [
        "Dans cette partie, on essaie de montrer qu'un réseau de type RBF (peu linéaire) est capable, à défaut de pouvoir être performant contre des exemples adversariaux, de montrer une très faible confiance en ses résultats mauvais."
      ],
      "metadata": {
        "id": "1b6qagZRLimt"
      }
    },
    {
      "cell_type": "code",
      "execution_count": 3,
      "metadata": {
        "colab": {
          "base_uri": "https://localhost:8080/"
        },
        "id": "_xsQAiBUFNHK",
        "outputId": "3609fbe8-0de8-4c82-e9bc-906457626755"
      },
      "outputs": [
        {
          "output_type": "stream",
          "name": "stderr",
          "text": [
            "/usr/local/lib/python3.10/dist-packages/keras/src/layers/reshaping/flatten.py:37: UserWarning: Do not pass an `input_shape`/`input_dim` argument to a layer. When using Sequential models, prefer using an `Input(shape)` object as the first layer in the model instead.\n",
            "  super().__init__(**kwargs)\n"
          ]
        },
        {
          "output_type": "stream",
          "name": "stdout",
          "text": [
            "\u001b[1m313/313\u001b[0m \u001b[32m━━━━━━━━━━━━━━━━━━━━\u001b[0m\u001b[37m\u001b[0m \u001b[1m1s\u001b[0m 2ms/step\n",
            "RBF Network Results:\n",
            " - Error rate on adversarial examples: 60.83%\n",
            " - Average confidence on adversarial mistakes: 34.78%\n",
            " - Average confidence on clean examples: 47.28%\n"
          ]
        }
      ],
      "source": [
        "import numpy as np\n",
        "import tensorflow as tf\n",
        "from tensorflow.keras.models import Sequential\n",
        "from tensorflow.keras.layers import Dense, Flatten\n",
        "from tensorflow.keras.datasets import mnist\n",
        "from sklearn.cluster import KMeans\n",
        "from sklearn.metrics.pairwise import rbf_kernel\n",
        "from sklearn.linear_model import LogisticRegression\n",
        "\n",
        "# Charger les données MNIST\n",
        "(x_train, y_train), (x_test, y_test) = mnist.load_data()\n",
        "x_train, x_test = x_train / 255.0, x_test / 255.0\n",
        "x_train_flat = x_train.reshape(-1, 28 * 28)\n",
        "x_test_flat = x_test.reshape(-1, 28 * 28)\n",
        "\n",
        "# Fonction pour générer des exemples adversariaux (FGSM)\n",
        "def generate_adversarial_examples(model, x, y, epsilon=0.25):\n",
        "    adv_examples = []\n",
        "    for i in range(len(x)):\n",
        "        x_sample = tf.convert_to_tensor(x[i].reshape(1, 28, 28), dtype=tf.float32)\n",
        "        y_sample = tf.convert_to_tensor([y[i]], dtype=tf.int64)\n",
        "        with tf.GradientTape() as tape:\n",
        "            tape.watch(x_sample)\n",
        "            pred = model(x_sample)\n",
        "            loss = tf.keras.losses.sparse_categorical_crossentropy(y_sample, pred)\n",
        "        gradient = tape.gradient(loss, x_sample)\n",
        "        perturbation = epsilon * tf.sign(gradient)\n",
        "        x_adv = x_sample + perturbation\n",
        "        x_adv = tf.clip_by_value(x_adv, 0, 1)\n",
        "        adv_examples.append(x_adv.numpy().squeeze())\n",
        "    return np.array(adv_examples)\n",
        "\n",
        "# Modèle Maxout simulé avec Dense\n",
        "def create_maxout_model():\n",
        "    model = Sequential([\n",
        "        Flatten(input_shape=(28, 28)),\n",
        "        Dense(256, activation='relu'),\n",
        "        Dense(10, activation='softmax')\n",
        "    ])\n",
        "    model.compile(optimizer='adam', loss='sparse_categorical_crossentropy', metrics=['accuracy'])\n",
        "    return model\n",
        "\n",
        "# Modèle RBF\n",
        "class ShallowRBFNetwork:\n",
        "    def __init__(self, num_classes=10, gamma=0.05):\n",
        "        self.num_classes = num_classes\n",
        "        self.kmeans = KMeans(n_clusters=num_classes, init='k-means++', max_iter=500, n_init=10)\n",
        "        self.log_reg = LogisticRegression(max_iter=1000)\n",
        "        self.gamma = gamma\n",
        "\n",
        "    def fit(self, x, y):\n",
        "        self.kmeans.fit(x)\n",
        "        rbf_features = rbf_kernel(x, self.kmeans.cluster_centers_, gamma=self.gamma)\n",
        "        self.log_reg.fit(rbf_features, y)\n",
        "\n",
        "    def predict_proba(self, x):\n",
        "        rbf_features = rbf_kernel(x, self.kmeans.cluster_centers_, gamma=self.gamma)\n",
        "        return self.log_reg.predict_proba(rbf_features)\n",
        "\n",
        "    def predict(self, x):\n",
        "        return np.argmax(self.predict_proba(x), axis=1)\n",
        "\n",
        "# Entraînement des modèles\n",
        "model_maxout = create_maxout_model()\n",
        "model_maxout.fit(x_train, y_train, epochs=5, verbose=0)\n",
        "\n",
        "model_rbf = ShallowRBFNetwork()\n",
        "model_rbf.fit(x_train_flat, y_train)\n",
        "\n",
        "# Génération des exemples adversariaux avec le modèle Maxout\n",
        "x_adv = generate_adversarial_examples(model_maxout, x_test, y_test)\n",
        "\n",
        "# Prédictions sur les exemples adversariaux\n",
        "y_pred_maxout = np.argmax(model_maxout.predict(x_adv), axis=1)\n",
        "y_pred_rbf = model_rbf.predict(x_adv.reshape(-1, 28 * 28))\n",
        "\n",
        "# Calcul des métriques de performance\n",
        "def calculate_statistics(y_true, y_pred, y_proba):\n",
        "    error_rate = np.mean(y_true != y_pred) * 100\n",
        "    confidence_mistakes = np.mean(np.max(y_proba[y_true != y_pred], axis=1)) * 100\n",
        "    confidence_clean = np.mean(np.max(y_proba[y_true == y_pred], axis=1)) * 100\n",
        "    return error_rate, confidence_mistakes, confidence_clean\n",
        "\n",
        "# Résultats pour le réseau RBF\n",
        "y_proba_rbf = model_rbf.predict_proba(x_adv.reshape(-1, 28 * 28))\n",
        "error_rate_rbf, confidence_mistakes_rbf, confidence_clean_rbf = calculate_statistics(\n",
        "    y_test, y_pred_rbf, y_proba_rbf\n",
        ")\n",
        "\n",
        "# Affichage des résultats\n",
        "print(\"RBF Network Results:\")\n",
        "print(f\" - Error rate on adversarial examples: {error_rate_rbf:.2f}%\")\n",
        "print(f\" - Average confidence on adversarial mistakes: {confidence_mistakes_rbf:.2f}%\")\n",
        "print(f\" - Average confidence on clean examples: {confidence_clean_rbf:.2f}%\")\n"
      ]
    }
  ]
}